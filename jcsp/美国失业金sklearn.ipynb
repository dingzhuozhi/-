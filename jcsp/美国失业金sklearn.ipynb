{
 "cells": [
  {
   "cell_type": "code",
   "execution_count": 19,
   "metadata": {
    "collapsed": true,
    "pycharm": {
     "name": "#%%\n"
    }
   },
   "outputs": [
    {
     "data": {
      "text/plain": "                time  now_1  correction_1  previous_1  now_2  correction_2  \\\ndate                                                                         \n2023/1/5    21:30:00    204           223         225   1694          1718   \n2022/12/29  21:30:00    225           216         216   1710          1669   \n2022/12/22  21:30:00    216           214         211   1672          1678   \n2022/12/15  21:30:00    211           231         230   1671          1670   \n2022/12/8   21:30:00    230           226         225   1671          1609   \n\n            previous_2  predict_1  predict_2   now_3  correction_3  \\\ndate                                                                 \n2023/1/5          1710        225     1708.0  214.00        221.00   \n2022/12/29        1672        225     1686.0  220.50        221.75   \n2022/12/22        1671        222     1683.0  220.50        228.00   \n2022/12/15        1671        230     1671.0  226.50        230.25   \n2022/12/8         1608        230     1600.0  229.25        229.00   \n\n            previous_3  label  \ndate                           \n2023/1/5        221.00     -1  \n2022/12/29      221.75     -1  \n2022/12/22      227.25     -1  \n2022/12/15      230.00      1  \n2022/12/8       228.75      1  ",
      "text/html": "<div>\n<style scoped>\n    .dataframe tbody tr th:only-of-type {\n        vertical-align: middle;\n    }\n\n    .dataframe tbody tr th {\n        vertical-align: top;\n    }\n\n    .dataframe thead th {\n        text-align: right;\n    }\n</style>\n<table border=\"1\" class=\"dataframe\">\n  <thead>\n    <tr style=\"text-align: right;\">\n      <th></th>\n      <th>time</th>\n      <th>now_1</th>\n      <th>correction_1</th>\n      <th>previous_1</th>\n      <th>now_2</th>\n      <th>correction_2</th>\n      <th>previous_2</th>\n      <th>predict_1</th>\n      <th>predict_2</th>\n      <th>now_3</th>\n      <th>correction_3</th>\n      <th>previous_3</th>\n      <th>label</th>\n    </tr>\n    <tr>\n      <th>date</th>\n      <th></th>\n      <th></th>\n      <th></th>\n      <th></th>\n      <th></th>\n      <th></th>\n      <th></th>\n      <th></th>\n      <th></th>\n      <th></th>\n      <th></th>\n      <th></th>\n      <th></th>\n    </tr>\n  </thead>\n  <tbody>\n    <tr>\n      <th>2023/1/5</th>\n      <td>21:30:00</td>\n      <td>204</td>\n      <td>223</td>\n      <td>225</td>\n      <td>1694</td>\n      <td>1718</td>\n      <td>1710</td>\n      <td>225</td>\n      <td>1708.0</td>\n      <td>214.00</td>\n      <td>221.00</td>\n      <td>221.00</td>\n      <td>-1</td>\n    </tr>\n    <tr>\n      <th>2022/12/29</th>\n      <td>21:30:00</td>\n      <td>225</td>\n      <td>216</td>\n      <td>216</td>\n      <td>1710</td>\n      <td>1669</td>\n      <td>1672</td>\n      <td>225</td>\n      <td>1686.0</td>\n      <td>220.50</td>\n      <td>221.75</td>\n      <td>221.75</td>\n      <td>-1</td>\n    </tr>\n    <tr>\n      <th>2022/12/22</th>\n      <td>21:30:00</td>\n      <td>216</td>\n      <td>214</td>\n      <td>211</td>\n      <td>1672</td>\n      <td>1678</td>\n      <td>1671</td>\n      <td>222</td>\n      <td>1683.0</td>\n      <td>220.50</td>\n      <td>228.00</td>\n      <td>227.25</td>\n      <td>-1</td>\n    </tr>\n    <tr>\n      <th>2022/12/15</th>\n      <td>21:30:00</td>\n      <td>211</td>\n      <td>231</td>\n      <td>230</td>\n      <td>1671</td>\n      <td>1670</td>\n      <td>1671</td>\n      <td>230</td>\n      <td>1671.0</td>\n      <td>226.50</td>\n      <td>230.25</td>\n      <td>230.00</td>\n      <td>1</td>\n    </tr>\n    <tr>\n      <th>2022/12/8</th>\n      <td>21:30:00</td>\n      <td>230</td>\n      <td>226</td>\n      <td>225</td>\n      <td>1671</td>\n      <td>1609</td>\n      <td>1608</td>\n      <td>230</td>\n      <td>1600.0</td>\n      <td>229.25</td>\n      <td>229.00</td>\n      <td>228.75</td>\n      <td>1</td>\n    </tr>\n  </tbody>\n</table>\n</div>"
     },
     "execution_count": 19,
     "metadata": {},
     "output_type": "execute_result"
    }
   ],
   "source": [
    "import pandas as pd\n",
    "df=pd.read_csv(\"美国失业金_label.csv\",index_col=\"date\")\n",
    "df.head()"
   ]
  },
  {
   "cell_type": "code",
   "execution_count": 20,
   "outputs": [
    {
     "name": "stdout",
     "output_type": "stream",
     "text": [
      "time            0\n",
      "now_1           0\n",
      "correction_1    0\n",
      "previous_1      0\n",
      "now_2           0\n",
      "correction_2    0\n",
      "previous_2      0\n",
      "predict_1       0\n",
      "predict_2       0\n",
      "now_3           0\n",
      "correction_3    0\n",
      "previous_3      0\n",
      "label           0\n",
      "dtype: int64\n"
     ]
    },
    {
     "data": {
      "text/plain": "(199, 13)"
     },
     "execution_count": 20,
     "metadata": {},
     "output_type": "execute_result"
    }
   ],
   "source": [
    "df=df.dropna(axis=0)\n",
    "print(df.isnull().sum())\n",
    "df.shape"
   ],
   "metadata": {
    "collapsed": false,
    "pycharm": {
     "name": "#%%\n"
    }
   }
  },
  {
   "cell_type": "code",
   "execution_count": 21,
   "outputs": [],
   "source": [
    "def function(x,y):\n",
    "    return x-y\n",
    "df.insert(df.shape[1]-1,\"now_predict_sub_1\",list(map(lambda x,y:function(x,y),df[\"now_1\"],df[\"predict_1\"])))\n",
    "df.insert(df.shape[1]-1,\"now_previous_sub_1\",list(map(lambda x,y:function(x,y),df[\"now_1\"],df[\"previous_1\"])))\n",
    "df.insert(df.shape[1]-1,\"now_correction_sub_1\",list(map(lambda x,y:function(x,y),df[\"now_1\"],df[\"correction_1\"])))\n",
    "\n",
    "df.insert(df.shape[1]-1,\"now_predict_sub_2\",list(map(lambda x,y:function(x,y),df[\"now_2\"],df[\"predict_2\"])))\n",
    "df.insert(df.shape[1]-1,\"now_previous_sub_2\",list(map(lambda x,y:function(x,y),df[\"now_2\"],df[\"previous_2\"])))\n",
    "df.insert(df.shape[1]-1,\"now_correction_sub_2\",list(map(lambda x,y:function(x,y),df[\"now_2\"],df[\"correction_2\"])))\n",
    "\n",
    "df.insert(df.shape[1]-1,\"now_previous_sub_3\",list(map(lambda x,y:function(x,y),df[\"now_3\"],df[\"previous_3\"])))\n",
    "df.insert(df.shape[1]-1,\"now_correction_sub_3\",list(map(lambda x,y:function(x,y),df[\"now_3\"],df[\"correction_3\"])))"
   ],
   "metadata": {
    "collapsed": false,
    "pycharm": {
     "name": "#%%\n"
    }
   }
  },
  {
   "cell_type": "code",
   "execution_count": 29,
   "outputs": [
    {
     "data": {
      "text/plain": "['21:30:00',\n '21:30:00',\n '21:30:00',\n '21:30:00',\n '21:30:00',\n '21:30:00',\n '21:30:00',\n '21:30:00',\n '21:30:00',\n '20:30:00',\n '20:30:00',\n '20:30:00',\n '20:30:00',\n '20:30:00',\n '20:30:00',\n '20:30:00',\n '20:30:00',\n '20:30:00',\n '20:30:00',\n '20:30:00',\n '20:30:00',\n '20:30:00',\n '20:30:00']"
     },
     "execution_count": 29,
     "metadata": {},
     "output_type": "execute_result"
    }
   ],
   "source": [
    "# fence=20\n",
    "fence=23\n",
    "test_times=df[\"time\"][:fence].tolist()\n",
    "test_times"
   ],
   "metadata": {
    "collapsed": false,
    "pycharm": {
     "name": "#%%\n"
    }
   }
  },
  {
   "cell_type": "code",
   "execution_count": 30,
   "outputs": [
    {
     "data": {
      "text/plain": "                time  now_1  correction_1  previous_1  now_2  correction_2  \\\ndate                                                                         \n2023/1/5    21:30:00    204           223         225   1694          1718   \n2022/12/29  21:30:00    225           216         216   1710          1669   \n2022/12/22  21:30:00    216           214         211   1672          1678   \n2022/12/15  21:30:00    211           231         230   1671          1670   \n2022/12/8   21:30:00    230           226         225   1671          1609   \n...              ...    ...           ...         ...    ...           ...   \n2018/2/22   21:30:00    222           229         230   1875          1948   \n2018/2/8    21:30:00    221           230         230   1923          1956   \n2018/2/1    21:30:00    230           231         233   1953          1940   \n2018/1/18   21:30:00    220           261         261   1952          1876   \n2018/1/11   21:30:00    261           250         250   1867          1902   \n\n            previous_2  predict_1  predict_2   now_3  ...  previous_3  \\\ndate                                                  ...               \n2023/1/5          1710        225     1708.0  214.00  ...      221.00   \n2022/12/29        1672        225     1686.0  220.50  ...      221.75   \n2022/12/22        1671        222     1683.0  220.50  ...      227.25   \n2022/12/15        1671        230     1671.0  226.50  ...      230.00   \n2022/12/8         1608        230     1600.0  229.25  ...      228.75   \n...                ...        ...        ...     ...  ...         ...   \n2018/2/22         1942        230     1930.0  225.75  ...      228.50   \n2018/2/8          1953        236     1945.0  226.00  ...      234.50   \n2018/2/1          1937        238     1928.0  236.00  ...      240.00   \n2018/1/18         1867        250     1900.0  244.00  ...      250.75   \n2018/1/11         1914        246     1915.0  250.25  ...      241.75   \n\n            now_predict_sub_1  now_previous_sub_1  now_correction_sub_1  \\\ndate                                                                      \n2023/1/5                  -21                 -21                   -19   \n2022/12/29                  0                   9                     9   \n2022/12/22                 -6                   5                     2   \n2022/12/15                -19                 -19                   -20   \n2022/12/8                   0                   5                     4   \n...                       ...                 ...                   ...   \n2018/2/22                  -8                  -8                    -7   \n2018/2/8                  -15                  -9                    -9   \n2018/2/1                   -8                  -3                    -1   \n2018/1/18                 -30                 -41                   -41   \n2018/1/11                  15                  11                    11   \n\n            now_predict_sub_2  now_previous_sub_2  now_correction_sub_2  \\\ndate                                                                      \n2023/1/5                -14.0                 -16                   -24   \n2022/12/29               24.0                  38                    41   \n2022/12/22              -11.0                   1                    -6   \n2022/12/15                0.0                   0                     1   \n2022/12/8                71.0                  63                    62   \n...                       ...                 ...                   ...   \n2018/2/22               -55.0                 -67                   -73   \n2018/2/8                -22.0                 -30                   -33   \n2018/2/1                 25.0                  16                    13   \n2018/1/18                52.0                  85                    76   \n2018/1/11               -48.0                 -47                   -35   \n\n            now_previous_sub_3  now_correction_sub_3  label  \ndate                                                         \n2023/1/5                 -7.00                 -7.00     -1  \n2022/12/29               -1.25                 -1.25     -1  \n2022/12/22               -6.75                 -7.50     -1  \n2022/12/15               -3.50                 -3.75      1  \n2022/12/8                 0.50                  0.25      1  \n...                        ...                   ...    ...  \n2018/2/22                -2.75                 -2.50     -1  \n2018/2/8                 -8.50                 -8.50     -1  \n2018/2/1                 -4.00                 -3.50     -1  \n2018/1/18                -6.75                 -6.75      1  \n2018/1/11                 8.50                  8.50      1  \n\n[199 rows x 21 columns]",
      "text/html": "<div>\n<style scoped>\n    .dataframe tbody tr th:only-of-type {\n        vertical-align: middle;\n    }\n\n    .dataframe tbody tr th {\n        vertical-align: top;\n    }\n\n    .dataframe thead th {\n        text-align: right;\n    }\n</style>\n<table border=\"1\" class=\"dataframe\">\n  <thead>\n    <tr style=\"text-align: right;\">\n      <th></th>\n      <th>time</th>\n      <th>now_1</th>\n      <th>correction_1</th>\n      <th>previous_1</th>\n      <th>now_2</th>\n      <th>correction_2</th>\n      <th>previous_2</th>\n      <th>predict_1</th>\n      <th>predict_2</th>\n      <th>now_3</th>\n      <th>...</th>\n      <th>previous_3</th>\n      <th>now_predict_sub_1</th>\n      <th>now_previous_sub_1</th>\n      <th>now_correction_sub_1</th>\n      <th>now_predict_sub_2</th>\n      <th>now_previous_sub_2</th>\n      <th>now_correction_sub_2</th>\n      <th>now_previous_sub_3</th>\n      <th>now_correction_sub_3</th>\n      <th>label</th>\n    </tr>\n    <tr>\n      <th>date</th>\n      <th></th>\n      <th></th>\n      <th></th>\n      <th></th>\n      <th></th>\n      <th></th>\n      <th></th>\n      <th></th>\n      <th></th>\n      <th></th>\n      <th></th>\n      <th></th>\n      <th></th>\n      <th></th>\n      <th></th>\n      <th></th>\n      <th></th>\n      <th></th>\n      <th></th>\n      <th></th>\n      <th></th>\n    </tr>\n  </thead>\n  <tbody>\n    <tr>\n      <th>2023/1/5</th>\n      <td>21:30:00</td>\n      <td>204</td>\n      <td>223</td>\n      <td>225</td>\n      <td>1694</td>\n      <td>1718</td>\n      <td>1710</td>\n      <td>225</td>\n      <td>1708.0</td>\n      <td>214.00</td>\n      <td>...</td>\n      <td>221.00</td>\n      <td>-21</td>\n      <td>-21</td>\n      <td>-19</td>\n      <td>-14.0</td>\n      <td>-16</td>\n      <td>-24</td>\n      <td>-7.00</td>\n      <td>-7.00</td>\n      <td>-1</td>\n    </tr>\n    <tr>\n      <th>2022/12/29</th>\n      <td>21:30:00</td>\n      <td>225</td>\n      <td>216</td>\n      <td>216</td>\n      <td>1710</td>\n      <td>1669</td>\n      <td>1672</td>\n      <td>225</td>\n      <td>1686.0</td>\n      <td>220.50</td>\n      <td>...</td>\n      <td>221.75</td>\n      <td>0</td>\n      <td>9</td>\n      <td>9</td>\n      <td>24.0</td>\n      <td>38</td>\n      <td>41</td>\n      <td>-1.25</td>\n      <td>-1.25</td>\n      <td>-1</td>\n    </tr>\n    <tr>\n      <th>2022/12/22</th>\n      <td>21:30:00</td>\n      <td>216</td>\n      <td>214</td>\n      <td>211</td>\n      <td>1672</td>\n      <td>1678</td>\n      <td>1671</td>\n      <td>222</td>\n      <td>1683.0</td>\n      <td>220.50</td>\n      <td>...</td>\n      <td>227.25</td>\n      <td>-6</td>\n      <td>5</td>\n      <td>2</td>\n      <td>-11.0</td>\n      <td>1</td>\n      <td>-6</td>\n      <td>-6.75</td>\n      <td>-7.50</td>\n      <td>-1</td>\n    </tr>\n    <tr>\n      <th>2022/12/15</th>\n      <td>21:30:00</td>\n      <td>211</td>\n      <td>231</td>\n      <td>230</td>\n      <td>1671</td>\n      <td>1670</td>\n      <td>1671</td>\n      <td>230</td>\n      <td>1671.0</td>\n      <td>226.50</td>\n      <td>...</td>\n      <td>230.00</td>\n      <td>-19</td>\n      <td>-19</td>\n      <td>-20</td>\n      <td>0.0</td>\n      <td>0</td>\n      <td>1</td>\n      <td>-3.50</td>\n      <td>-3.75</td>\n      <td>1</td>\n    </tr>\n    <tr>\n      <th>2022/12/8</th>\n      <td>21:30:00</td>\n      <td>230</td>\n      <td>226</td>\n      <td>225</td>\n      <td>1671</td>\n      <td>1609</td>\n      <td>1608</td>\n      <td>230</td>\n      <td>1600.0</td>\n      <td>229.25</td>\n      <td>...</td>\n      <td>228.75</td>\n      <td>0</td>\n      <td>5</td>\n      <td>4</td>\n      <td>71.0</td>\n      <td>63</td>\n      <td>62</td>\n      <td>0.50</td>\n      <td>0.25</td>\n      <td>1</td>\n    </tr>\n    <tr>\n      <th>...</th>\n      <td>...</td>\n      <td>...</td>\n      <td>...</td>\n      <td>...</td>\n      <td>...</td>\n      <td>...</td>\n      <td>...</td>\n      <td>...</td>\n      <td>...</td>\n      <td>...</td>\n      <td>...</td>\n      <td>...</td>\n      <td>...</td>\n      <td>...</td>\n      <td>...</td>\n      <td>...</td>\n      <td>...</td>\n      <td>...</td>\n      <td>...</td>\n      <td>...</td>\n      <td>...</td>\n    </tr>\n    <tr>\n      <th>2018/2/22</th>\n      <td>21:30:00</td>\n      <td>222</td>\n      <td>229</td>\n      <td>230</td>\n      <td>1875</td>\n      <td>1948</td>\n      <td>1942</td>\n      <td>230</td>\n      <td>1930.0</td>\n      <td>225.75</td>\n      <td>...</td>\n      <td>228.50</td>\n      <td>-8</td>\n      <td>-8</td>\n      <td>-7</td>\n      <td>-55.0</td>\n      <td>-67</td>\n      <td>-73</td>\n      <td>-2.75</td>\n      <td>-2.50</td>\n      <td>-1</td>\n    </tr>\n    <tr>\n      <th>2018/2/8</th>\n      <td>21:30:00</td>\n      <td>221</td>\n      <td>230</td>\n      <td>230</td>\n      <td>1923</td>\n      <td>1956</td>\n      <td>1953</td>\n      <td>236</td>\n      <td>1945.0</td>\n      <td>226.00</td>\n      <td>...</td>\n      <td>234.50</td>\n      <td>-15</td>\n      <td>-9</td>\n      <td>-9</td>\n      <td>-22.0</td>\n      <td>-30</td>\n      <td>-33</td>\n      <td>-8.50</td>\n      <td>-8.50</td>\n      <td>-1</td>\n    </tr>\n    <tr>\n      <th>2018/2/1</th>\n      <td>21:30:00</td>\n      <td>230</td>\n      <td>231</td>\n      <td>233</td>\n      <td>1953</td>\n      <td>1940</td>\n      <td>1937</td>\n      <td>238</td>\n      <td>1928.0</td>\n      <td>236.00</td>\n      <td>...</td>\n      <td>240.00</td>\n      <td>-8</td>\n      <td>-3</td>\n      <td>-1</td>\n      <td>25.0</td>\n      <td>16</td>\n      <td>13</td>\n      <td>-4.00</td>\n      <td>-3.50</td>\n      <td>-1</td>\n    </tr>\n    <tr>\n      <th>2018/1/18</th>\n      <td>21:30:00</td>\n      <td>220</td>\n      <td>261</td>\n      <td>261</td>\n      <td>1952</td>\n      <td>1876</td>\n      <td>1867</td>\n      <td>250</td>\n      <td>1900.0</td>\n      <td>244.00</td>\n      <td>...</td>\n      <td>250.75</td>\n      <td>-30</td>\n      <td>-41</td>\n      <td>-41</td>\n      <td>52.0</td>\n      <td>85</td>\n      <td>76</td>\n      <td>-6.75</td>\n      <td>-6.75</td>\n      <td>1</td>\n    </tr>\n    <tr>\n      <th>2018/1/11</th>\n      <td>21:30:00</td>\n      <td>261</td>\n      <td>250</td>\n      <td>250</td>\n      <td>1867</td>\n      <td>1902</td>\n      <td>1914</td>\n      <td>246</td>\n      <td>1915.0</td>\n      <td>250.25</td>\n      <td>...</td>\n      <td>241.75</td>\n      <td>15</td>\n      <td>11</td>\n      <td>11</td>\n      <td>-48.0</td>\n      <td>-47</td>\n      <td>-35</td>\n      <td>8.50</td>\n      <td>8.50</td>\n      <td>1</td>\n    </tr>\n  </tbody>\n</table>\n<p>199 rows × 21 columns</p>\n</div>"
     },
     "execution_count": 30,
     "metadata": {},
     "output_type": "execute_result"
    }
   ],
   "source": [
    "df"
   ],
   "metadata": {
    "collapsed": false,
    "pycharm": {
     "name": "#%%\n"
    }
   }
  },
  {
   "cell_type": "code",
   "execution_count": 31,
   "outputs": [],
   "source": [
    "X=df.drop(columns=[\"label\",\"time\"])\n",
    "Y=df.label"
   ],
   "metadata": {
    "collapsed": false,
    "pycharm": {
     "name": "#%%\n"
    }
   }
  },
  {
   "cell_type": "code",
   "execution_count": 32,
   "outputs": [
    {
     "name": "stdout",
     "output_type": "stream",
     "text": [
      "<class 'pandas.core.frame.DataFrame'>\n",
      "Index: 199 entries, 2023/1/5 to 2018/1/11\n",
      "Data columns (total 19 columns):\n",
      " #   Column                Non-Null Count  Dtype  \n",
      "---  ------                --------------  -----  \n",
      " 0   now_1                 199 non-null    int64  \n",
      " 1   correction_1          199 non-null    int64  \n",
      " 2   previous_1            199 non-null    int64  \n",
      " 3   now_2                 199 non-null    int64  \n",
      " 4   correction_2          199 non-null    int64  \n",
      " 5   previous_2            199 non-null    int64  \n",
      " 6   predict_1             199 non-null    int64  \n",
      " 7   predict_2             199 non-null    float64\n",
      " 8   now_3                 199 non-null    float64\n",
      " 9   correction_3          199 non-null    float64\n",
      " 10  previous_3            199 non-null    float64\n",
      " 11  now_predict_sub_1     199 non-null    int64  \n",
      " 12  now_previous_sub_1    199 non-null    int64  \n",
      " 13  now_correction_sub_1  199 non-null    int64  \n",
      " 14  now_predict_sub_2     199 non-null    float64\n",
      " 15  now_previous_sub_2    199 non-null    int64  \n",
      " 16  now_correction_sub_2  199 non-null    int64  \n",
      " 17  now_previous_sub_3    199 non-null    float64\n",
      " 18  now_correction_sub_3  199 non-null    float64\n",
      "dtypes: float64(7), int64(12)\n",
      "memory usage: 31.1+ KB\n"
     ]
    }
   ],
   "source": [
    "X.info()"
   ],
   "metadata": {
    "collapsed": false,
    "pycharm": {
     "name": "#%%\n"
    }
   }
  },
  {
   "cell_type": "code",
   "execution_count": 33,
   "outputs": [
    {
     "name": "stdout",
     "output_type": "stream",
     "text": [
      "(176, 19) (176,)\n",
      "(23, 19) (23,)\n"
     ]
    }
   ],
   "source": [
    "X_train= X[fence:] # Train\n",
    "X_test = X[:fence] # Test\n",
    "Y_train=Y[fence:]\n",
    "Y_test=Y[:fence]\n",
    "print(X_train.shape, Y_train.shape)\n",
    "print(X_test.shape,Y_test.shape)"
   ],
   "metadata": {
    "collapsed": false,
    "pycharm": {
     "name": "#%%\n"
    }
   }
  },
  {
   "cell_type": "code",
   "execution_count": 34,
   "outputs": [
    {
     "data": {
      "text/plain": "            now_1  correction_1  previous_1  now_2  correction_2  previous_2  \\\ndate                                                                           \n2023/1/5      204           223         225   1694          1718        1710   \n2022/12/29    225           216         216   1710          1669        1672   \n2022/12/22    216           214         211   1672          1678        1671   \n2022/12/15    211           231         230   1671          1670        1671   \n2022/12/8     230           226         225   1671          1609        1608   \n2022/12/1     225           241         240   1608          1551        1551   \n2022/11/23    240           223         222   1551          1503        1507   \n2022/11/17    222           226         225   1507          1494        1493   \n2022/11/10    225           218         217   1493          1487        1485   \n2022/10/27    217           214         214   1438          1383        1385   \n2022/10/20    214           226         228   1385          1364        1368   \n2022/10/13    228           219         219   1368          1365        1361   \n2022/10/6     219           190         193   1361          1346        1347   \n2022/9/29     193           209         213   1347          1376        1379   \n2022/9/22     213           208         213   1379          1401        1403   \n2022/9/15     213           218         222   1403          1401        1473   \n2022/9/8      222           228         232   1473          1437        1438   \n2022/9/1      232           237         243   1438          1412        1415   \n2022/8/25     243           245         250   1415          1434        1437   \n2022/8/18     250           252         262   1437          1430        1428   \n2022/8/11     262           248         260   1428          1420        1416   \n2022/8/4      260           254         256   1416          1368        1359   \n2022/7/28     256           261         251   1359          1384        1384   \n\n            predict_1  predict_2   now_3  correction_3  previous_3  \\\ndate                                                                 \n2023/1/5          225     1708.0  214.00        221.00      221.00   \n2022/12/29        225     1686.0  220.50        221.75      221.75   \n2022/12/22        222     1683.0  220.50        228.00      227.25   \n2022/12/15        230     1671.0  226.50        230.25      230.00   \n2022/12/8         230     1600.0  229.25        229.00      228.75   \n2022/12/1         235     1573.0  228.00        227.00      226.75   \n2022/11/23        225     1517.0  226.00        221.25      221.00   \n2022/11/17        225     1500.0  220.25        219.00      218.75   \n2022/11/10        220     1475.0  218.25        219.00      218.75   \n2022/10/27        220     1388.0  219.50        212.25      212.25   \n2022/10/20        230     1375.0  213.50        211.00      211.50   \n2022/10/13        225     1365.0  213.25        206.50      206.50   \n2022/10/6         203     1345.0  209.50        206.25      207.00   \n2022/9/29         215     1388.0  210.25        215.75      216.75   \n2022/9/22         218     1400.0  220.00        222.75      224.00   \n2022/9/15         226     1475.0  227.50        232.00      233.00   \n2022/9/8          240     1435.0  236.75        240.50      241.50   \n2022/9/1          248     1438.0  246.75        245.50      247.00   \n2022/8/25         253     1442.0  253.75        249.75      246.75   \n2022/8/18         265     1438.0  257.00        253.75      252.00   \n2022/8/11         263     1407.0  257.25        251.75      254.75   \n2022/8/4          259     1370.0  252.75        248.50      249.25   \n2022/7/28         253     1380.0  246.50        242.75      240.50   \n\n            now_predict_sub_1  now_previous_sub_1  now_correction_sub_1  \\\ndate                                                                      \n2023/1/5                  -21                 -21                   -19   \n2022/12/29                  0                   9                     9   \n2022/12/22                 -6                   5                     2   \n2022/12/15                -19                 -19                   -20   \n2022/12/8                   0                   5                     4   \n2022/12/1                 -10                 -15                   -16   \n2022/11/23                 15                  18                    17   \n2022/11/17                 -3                  -3                    -4   \n2022/11/10                  5                   8                     7   \n2022/10/27                 -3                   3                     3   \n2022/10/20                -16                 -14                   -12   \n2022/10/13                  3                   9                     9   \n2022/10/6                  16                  26                    29   \n2022/9/29                 -22                 -20                   -16   \n2022/9/22                  -5                   0                     5   \n2022/9/15                 -13                  -9                    -5   \n2022/9/8                  -18                 -10                    -6   \n2022/9/1                  -16                 -11                    -5   \n2022/8/25                 -10                  -7                    -2   \n2022/8/18                 -15                 -12                    -2   \n2022/8/11                  -1                   2                    14   \n2022/8/4                    1                   4                     6   \n2022/7/28                   3                   5                    -5   \n\n            now_predict_sub_2  now_previous_sub_2  now_correction_sub_2  \\\ndate                                                                      \n2023/1/5                -14.0                 -16                   -24   \n2022/12/29               24.0                  38                    41   \n2022/12/22              -11.0                   1                    -6   \n2022/12/15                0.0                   0                     1   \n2022/12/8                71.0                  63                    62   \n2022/12/1                35.0                  57                    57   \n2022/11/23               34.0                  44                    48   \n2022/11/17                7.0                  14                    13   \n2022/11/10               18.0                   8                     6   \n2022/10/27               50.0                  53                    55   \n2022/10/20               10.0                  17                    21   \n2022/10/13                3.0                   7                     3   \n2022/10/6                16.0                  14                    15   \n2022/9/29               -41.0                 -32                   -29   \n2022/9/22               -21.0                 -24                   -22   \n2022/9/15               -72.0                 -70                     2   \n2022/9/8                 38.0                  35                    36   \n2022/9/1                  0.0                  23                    26   \n2022/8/25               -27.0                 -22                   -19   \n2022/8/18                -1.0                   9                     7   \n2022/8/11                21.0                  12                     8   \n2022/8/4                 46.0                  57                    48   \n2022/7/28               -21.0                 -25                   -25   \n\n            now_previous_sub_3  now_correction_sub_3  \ndate                                                  \n2023/1/5                 -7.00                 -7.00  \n2022/12/29               -1.25                 -1.25  \n2022/12/22               -6.75                 -7.50  \n2022/12/15               -3.50                 -3.75  \n2022/12/8                 0.50                  0.25  \n2022/12/1                 1.25                  1.00  \n2022/11/23                5.00                  4.75  \n2022/11/17                1.50                  1.25  \n2022/11/10               -0.50                 -0.75  \n2022/10/27                7.25                  7.25  \n2022/10/20                2.00                  2.50  \n2022/10/13                6.75                  6.75  \n2022/10/6                 2.50                  3.25  \n2022/9/29                -6.50                 -5.50  \n2022/9/22                -4.00                 -2.75  \n2022/9/15                -5.50                 -4.50  \n2022/9/8                 -4.75                 -3.75  \n2022/9/1                 -0.25                  1.25  \n2022/8/25                 7.00                  4.00  \n2022/8/18                 5.00                  3.25  \n2022/8/11                 2.50                  5.50  \n2022/8/4                  3.50                  4.25  \n2022/7/28                 6.00                  3.75  ",
      "text/html": "<div>\n<style scoped>\n    .dataframe tbody tr th:only-of-type {\n        vertical-align: middle;\n    }\n\n    .dataframe tbody tr th {\n        vertical-align: top;\n    }\n\n    .dataframe thead th {\n        text-align: right;\n    }\n</style>\n<table border=\"1\" class=\"dataframe\">\n  <thead>\n    <tr style=\"text-align: right;\">\n      <th></th>\n      <th>now_1</th>\n      <th>correction_1</th>\n      <th>previous_1</th>\n      <th>now_2</th>\n      <th>correction_2</th>\n      <th>previous_2</th>\n      <th>predict_1</th>\n      <th>predict_2</th>\n      <th>now_3</th>\n      <th>correction_3</th>\n      <th>previous_3</th>\n      <th>now_predict_sub_1</th>\n      <th>now_previous_sub_1</th>\n      <th>now_correction_sub_1</th>\n      <th>now_predict_sub_2</th>\n      <th>now_previous_sub_2</th>\n      <th>now_correction_sub_2</th>\n      <th>now_previous_sub_3</th>\n      <th>now_correction_sub_3</th>\n    </tr>\n    <tr>\n      <th>date</th>\n      <th></th>\n      <th></th>\n      <th></th>\n      <th></th>\n      <th></th>\n      <th></th>\n      <th></th>\n      <th></th>\n      <th></th>\n      <th></th>\n      <th></th>\n      <th></th>\n      <th></th>\n      <th></th>\n      <th></th>\n      <th></th>\n      <th></th>\n      <th></th>\n      <th></th>\n    </tr>\n  </thead>\n  <tbody>\n    <tr>\n      <th>2023/1/5</th>\n      <td>204</td>\n      <td>223</td>\n      <td>225</td>\n      <td>1694</td>\n      <td>1718</td>\n      <td>1710</td>\n      <td>225</td>\n      <td>1708.0</td>\n      <td>214.00</td>\n      <td>221.00</td>\n      <td>221.00</td>\n      <td>-21</td>\n      <td>-21</td>\n      <td>-19</td>\n      <td>-14.0</td>\n      <td>-16</td>\n      <td>-24</td>\n      <td>-7.00</td>\n      <td>-7.00</td>\n    </tr>\n    <tr>\n      <th>2022/12/29</th>\n      <td>225</td>\n      <td>216</td>\n      <td>216</td>\n      <td>1710</td>\n      <td>1669</td>\n      <td>1672</td>\n      <td>225</td>\n      <td>1686.0</td>\n      <td>220.50</td>\n      <td>221.75</td>\n      <td>221.75</td>\n      <td>0</td>\n      <td>9</td>\n      <td>9</td>\n      <td>24.0</td>\n      <td>38</td>\n      <td>41</td>\n      <td>-1.25</td>\n      <td>-1.25</td>\n    </tr>\n    <tr>\n      <th>2022/12/22</th>\n      <td>216</td>\n      <td>214</td>\n      <td>211</td>\n      <td>1672</td>\n      <td>1678</td>\n      <td>1671</td>\n      <td>222</td>\n      <td>1683.0</td>\n      <td>220.50</td>\n      <td>228.00</td>\n      <td>227.25</td>\n      <td>-6</td>\n      <td>5</td>\n      <td>2</td>\n      <td>-11.0</td>\n      <td>1</td>\n      <td>-6</td>\n      <td>-6.75</td>\n      <td>-7.50</td>\n    </tr>\n    <tr>\n      <th>2022/12/15</th>\n      <td>211</td>\n      <td>231</td>\n      <td>230</td>\n      <td>1671</td>\n      <td>1670</td>\n      <td>1671</td>\n      <td>230</td>\n      <td>1671.0</td>\n      <td>226.50</td>\n      <td>230.25</td>\n      <td>230.00</td>\n      <td>-19</td>\n      <td>-19</td>\n      <td>-20</td>\n      <td>0.0</td>\n      <td>0</td>\n      <td>1</td>\n      <td>-3.50</td>\n      <td>-3.75</td>\n    </tr>\n    <tr>\n      <th>2022/12/8</th>\n      <td>230</td>\n      <td>226</td>\n      <td>225</td>\n      <td>1671</td>\n      <td>1609</td>\n      <td>1608</td>\n      <td>230</td>\n      <td>1600.0</td>\n      <td>229.25</td>\n      <td>229.00</td>\n      <td>228.75</td>\n      <td>0</td>\n      <td>5</td>\n      <td>4</td>\n      <td>71.0</td>\n      <td>63</td>\n      <td>62</td>\n      <td>0.50</td>\n      <td>0.25</td>\n    </tr>\n    <tr>\n      <th>2022/12/1</th>\n      <td>225</td>\n      <td>241</td>\n      <td>240</td>\n      <td>1608</td>\n      <td>1551</td>\n      <td>1551</td>\n      <td>235</td>\n      <td>1573.0</td>\n      <td>228.00</td>\n      <td>227.00</td>\n      <td>226.75</td>\n      <td>-10</td>\n      <td>-15</td>\n      <td>-16</td>\n      <td>35.0</td>\n      <td>57</td>\n      <td>57</td>\n      <td>1.25</td>\n      <td>1.00</td>\n    </tr>\n    <tr>\n      <th>2022/11/23</th>\n      <td>240</td>\n      <td>223</td>\n      <td>222</td>\n      <td>1551</td>\n      <td>1503</td>\n      <td>1507</td>\n      <td>225</td>\n      <td>1517.0</td>\n      <td>226.00</td>\n      <td>221.25</td>\n      <td>221.00</td>\n      <td>15</td>\n      <td>18</td>\n      <td>17</td>\n      <td>34.0</td>\n      <td>44</td>\n      <td>48</td>\n      <td>5.00</td>\n      <td>4.75</td>\n    </tr>\n    <tr>\n      <th>2022/11/17</th>\n      <td>222</td>\n      <td>226</td>\n      <td>225</td>\n      <td>1507</td>\n      <td>1494</td>\n      <td>1493</td>\n      <td>225</td>\n      <td>1500.0</td>\n      <td>220.25</td>\n      <td>219.00</td>\n      <td>218.75</td>\n      <td>-3</td>\n      <td>-3</td>\n      <td>-4</td>\n      <td>7.0</td>\n      <td>14</td>\n      <td>13</td>\n      <td>1.50</td>\n      <td>1.25</td>\n    </tr>\n    <tr>\n      <th>2022/11/10</th>\n      <td>225</td>\n      <td>218</td>\n      <td>217</td>\n      <td>1493</td>\n      <td>1487</td>\n      <td>1485</td>\n      <td>220</td>\n      <td>1475.0</td>\n      <td>218.25</td>\n      <td>219.00</td>\n      <td>218.75</td>\n      <td>5</td>\n      <td>8</td>\n      <td>7</td>\n      <td>18.0</td>\n      <td>8</td>\n      <td>6</td>\n      <td>-0.50</td>\n      <td>-0.75</td>\n    </tr>\n    <tr>\n      <th>2022/10/27</th>\n      <td>217</td>\n      <td>214</td>\n      <td>214</td>\n      <td>1438</td>\n      <td>1383</td>\n      <td>1385</td>\n      <td>220</td>\n      <td>1388.0</td>\n      <td>219.50</td>\n      <td>212.25</td>\n      <td>212.25</td>\n      <td>-3</td>\n      <td>3</td>\n      <td>3</td>\n      <td>50.0</td>\n      <td>53</td>\n      <td>55</td>\n      <td>7.25</td>\n      <td>7.25</td>\n    </tr>\n    <tr>\n      <th>2022/10/20</th>\n      <td>214</td>\n      <td>226</td>\n      <td>228</td>\n      <td>1385</td>\n      <td>1364</td>\n      <td>1368</td>\n      <td>230</td>\n      <td>1375.0</td>\n      <td>213.50</td>\n      <td>211.00</td>\n      <td>211.50</td>\n      <td>-16</td>\n      <td>-14</td>\n      <td>-12</td>\n      <td>10.0</td>\n      <td>17</td>\n      <td>21</td>\n      <td>2.00</td>\n      <td>2.50</td>\n    </tr>\n    <tr>\n      <th>2022/10/13</th>\n      <td>228</td>\n      <td>219</td>\n      <td>219</td>\n      <td>1368</td>\n      <td>1365</td>\n      <td>1361</td>\n      <td>225</td>\n      <td>1365.0</td>\n      <td>213.25</td>\n      <td>206.50</td>\n      <td>206.50</td>\n      <td>3</td>\n      <td>9</td>\n      <td>9</td>\n      <td>3.0</td>\n      <td>7</td>\n      <td>3</td>\n      <td>6.75</td>\n      <td>6.75</td>\n    </tr>\n    <tr>\n      <th>2022/10/6</th>\n      <td>219</td>\n      <td>190</td>\n      <td>193</td>\n      <td>1361</td>\n      <td>1346</td>\n      <td>1347</td>\n      <td>203</td>\n      <td>1345.0</td>\n      <td>209.50</td>\n      <td>206.25</td>\n      <td>207.00</td>\n      <td>16</td>\n      <td>26</td>\n      <td>29</td>\n      <td>16.0</td>\n      <td>14</td>\n      <td>15</td>\n      <td>2.50</td>\n      <td>3.25</td>\n    </tr>\n    <tr>\n      <th>2022/9/29</th>\n      <td>193</td>\n      <td>209</td>\n      <td>213</td>\n      <td>1347</td>\n      <td>1376</td>\n      <td>1379</td>\n      <td>215</td>\n      <td>1388.0</td>\n      <td>210.25</td>\n      <td>215.75</td>\n      <td>216.75</td>\n      <td>-22</td>\n      <td>-20</td>\n      <td>-16</td>\n      <td>-41.0</td>\n      <td>-32</td>\n      <td>-29</td>\n      <td>-6.50</td>\n      <td>-5.50</td>\n    </tr>\n    <tr>\n      <th>2022/9/22</th>\n      <td>213</td>\n      <td>208</td>\n      <td>213</td>\n      <td>1379</td>\n      <td>1401</td>\n      <td>1403</td>\n      <td>218</td>\n      <td>1400.0</td>\n      <td>220.00</td>\n      <td>222.75</td>\n      <td>224.00</td>\n      <td>-5</td>\n      <td>0</td>\n      <td>5</td>\n      <td>-21.0</td>\n      <td>-24</td>\n      <td>-22</td>\n      <td>-4.00</td>\n      <td>-2.75</td>\n    </tr>\n    <tr>\n      <th>2022/9/15</th>\n      <td>213</td>\n      <td>218</td>\n      <td>222</td>\n      <td>1403</td>\n      <td>1401</td>\n      <td>1473</td>\n      <td>226</td>\n      <td>1475.0</td>\n      <td>227.50</td>\n      <td>232.00</td>\n      <td>233.00</td>\n      <td>-13</td>\n      <td>-9</td>\n      <td>-5</td>\n      <td>-72.0</td>\n      <td>-70</td>\n      <td>2</td>\n      <td>-5.50</td>\n      <td>-4.50</td>\n    </tr>\n    <tr>\n      <th>2022/9/8</th>\n      <td>222</td>\n      <td>228</td>\n      <td>232</td>\n      <td>1473</td>\n      <td>1437</td>\n      <td>1438</td>\n      <td>240</td>\n      <td>1435.0</td>\n      <td>236.75</td>\n      <td>240.50</td>\n      <td>241.50</td>\n      <td>-18</td>\n      <td>-10</td>\n      <td>-6</td>\n      <td>38.0</td>\n      <td>35</td>\n      <td>36</td>\n      <td>-4.75</td>\n      <td>-3.75</td>\n    </tr>\n    <tr>\n      <th>2022/9/1</th>\n      <td>232</td>\n      <td>237</td>\n      <td>243</td>\n      <td>1438</td>\n      <td>1412</td>\n      <td>1415</td>\n      <td>248</td>\n      <td>1438.0</td>\n      <td>246.75</td>\n      <td>245.50</td>\n      <td>247.00</td>\n      <td>-16</td>\n      <td>-11</td>\n      <td>-5</td>\n      <td>0.0</td>\n      <td>23</td>\n      <td>26</td>\n      <td>-0.25</td>\n      <td>1.25</td>\n    </tr>\n    <tr>\n      <th>2022/8/25</th>\n      <td>243</td>\n      <td>245</td>\n      <td>250</td>\n      <td>1415</td>\n      <td>1434</td>\n      <td>1437</td>\n      <td>253</td>\n      <td>1442.0</td>\n      <td>253.75</td>\n      <td>249.75</td>\n      <td>246.75</td>\n      <td>-10</td>\n      <td>-7</td>\n      <td>-2</td>\n      <td>-27.0</td>\n      <td>-22</td>\n      <td>-19</td>\n      <td>7.00</td>\n      <td>4.00</td>\n    </tr>\n    <tr>\n      <th>2022/8/18</th>\n      <td>250</td>\n      <td>252</td>\n      <td>262</td>\n      <td>1437</td>\n      <td>1430</td>\n      <td>1428</td>\n      <td>265</td>\n      <td>1438.0</td>\n      <td>257.00</td>\n      <td>253.75</td>\n      <td>252.00</td>\n      <td>-15</td>\n      <td>-12</td>\n      <td>-2</td>\n      <td>-1.0</td>\n      <td>9</td>\n      <td>7</td>\n      <td>5.00</td>\n      <td>3.25</td>\n    </tr>\n    <tr>\n      <th>2022/8/11</th>\n      <td>262</td>\n      <td>248</td>\n      <td>260</td>\n      <td>1428</td>\n      <td>1420</td>\n      <td>1416</td>\n      <td>263</td>\n      <td>1407.0</td>\n      <td>257.25</td>\n      <td>251.75</td>\n      <td>254.75</td>\n      <td>-1</td>\n      <td>2</td>\n      <td>14</td>\n      <td>21.0</td>\n      <td>12</td>\n      <td>8</td>\n      <td>2.50</td>\n      <td>5.50</td>\n    </tr>\n    <tr>\n      <th>2022/8/4</th>\n      <td>260</td>\n      <td>254</td>\n      <td>256</td>\n      <td>1416</td>\n      <td>1368</td>\n      <td>1359</td>\n      <td>259</td>\n      <td>1370.0</td>\n      <td>252.75</td>\n      <td>248.50</td>\n      <td>249.25</td>\n      <td>1</td>\n      <td>4</td>\n      <td>6</td>\n      <td>46.0</td>\n      <td>57</td>\n      <td>48</td>\n      <td>3.50</td>\n      <td>4.25</td>\n    </tr>\n    <tr>\n      <th>2022/7/28</th>\n      <td>256</td>\n      <td>261</td>\n      <td>251</td>\n      <td>1359</td>\n      <td>1384</td>\n      <td>1384</td>\n      <td>253</td>\n      <td>1380.0</td>\n      <td>246.50</td>\n      <td>242.75</td>\n      <td>240.50</td>\n      <td>3</td>\n      <td>5</td>\n      <td>-5</td>\n      <td>-21.0</td>\n      <td>-25</td>\n      <td>-25</td>\n      <td>6.00</td>\n      <td>3.75</td>\n    </tr>\n  </tbody>\n</table>\n</div>"
     },
     "execution_count": 34,
     "metadata": {},
     "output_type": "execute_result"
    }
   ],
   "source": [
    "X_test"
   ],
   "metadata": {
    "collapsed": false,
    "pycharm": {
     "name": "#%%\n"
    }
   }
  },
  {
   "cell_type": "code",
   "execution_count": 35,
   "outputs": [
    {
     "name": "stdout",
     "output_type": "stream",
     "text": [
      "预测正确与错误个数:\n",
      " True     18\n",
      "False     5\n",
      "Name: label, dtype: int64\n",
      "训练集准确率: 1.0\n",
      "测试集准确率: 0.782608695652174\n",
      "['now_1', 'correction_1', 'previous_1', 'now_2', 'correction_2', 'previous_2', 'predict_1', 'predict_2', 'now_3', 'correction_3', 'previous_3', 'now_predict_sub_1', 'now_previous_sub_1', 'now_correction_sub_1', 'now_predict_sub_2', 'now_previous_sub_2', 'now_correction_sub_2', 'now_previous_sub_3', 'now_correction_sub_3']\n",
      "19\n"
     ]
    },
    {
     "data": {
      "text/plain": "<Figure size 432x288 with 1 Axes>",
      "image/png": "[encoded data removed]"
     },
     "metadata": {
      "needs_background": "light"
     },
     "output_type": "display_data"
    }
   ],
   "source": [
    "from sklearn.ensemble import RandomForestClassifier\n",
    "from sklearn import metrics\n",
    "from sklearn.tree import DecisionTreeClassifier\n",
    "from sklearn.linear_model import LogisticRegression\n",
    "from sklearn.svm import SVC\n",
    "from sklearn.ensemble import GradientBoostingClassifier\n",
    "from sklearn.ensemble import ExtraTreesClassifier\n",
    "#clf=RandomForestClassifier(oob_score=True,max_depth=5,n_estimators=32,bootstrap=True,random_state=10) #设置random_state\n",
    "#clf=DecisionTreeClassifier(max_depth=4)\n",
    "#clf=LogisticRegression(penalty='l2')\n",
    "#clf=SVC()\n",
    "#clf=GradientBoostingClassifier(max_depth=4)\n",
    "clf=ExtraTreesClassifier(max_depth=30,n_estimators=400,criterion='entropy',random_state=10)\n",
    "clf.fit(X_train,Y_train)\n",
    "predict=clf.predict(X_test)\n",
    "print(\"预测正确与错误个数:\\n\",(predict==Y_test).value_counts())\n",
    "print(\"训练集准确率:\",clf.score(X_train,Y_train))\n",
    "print(\"测试集准确率:\",clf.score(X_test,Y_test))\n",
    "import matplotlib.pyplot as plt\n",
    "features=X_train.columns.tolist()\n",
    "feature_importance=clf.feature_importances_.tolist()\n",
    "#for i,j in zip(X_train.columns,clf.feature_importances_):\n",
    "    #print(i,j)\n",
    "print(features)\n",
    "print(len(features))\n",
    "#print(feature_importance)\n",
    "plt.xticks(rotation=270)\n",
    "plt.bar(features,feature_importance)\n",
    "plt.show()"
   ],
   "metadata": {
    "collapsed": false,
    "pycharm": {
     "name": "#%%\n"
    }
   }
  },
  {
   "cell_type": "code",
   "execution_count": 35,
   "outputs": [],
   "source": [
    "# import catboost as cb\n",
    "# #clf=RandomForestClassifier(oob_score=True,max_depth=5,n_estimators=32,bootstrap=True,random_state=10) #设置random_state\n",
    "# #clf=DecisionTreeClassifier(max_depth=4)\n",
    "# #clf=LogisticRegression(penalty='l2')\n",
    "# #clf=SVC()\n",
    "# #clf=GradientBoostingClassifier(max_depth=4)\n",
    "#\n",
    "# clf=cb.CatBoostClassifier()\n",
    "# clf.fit(X_train,Y_train)\n",
    "# predict=clf.predict(X_test)\n",
    "# print(\"预测正确与错误个数:\\n\",(predict==Y_test).value_counts())\n",
    "# print(\"训练集准确率:\",clf.score(X_train,Y_train))\n",
    "# print(\"测试集准确率:\",clf.score(X_test,Y_test))\n",
    "# import matplotlib.pyplot as plt\n",
    "# features=X_train.columns.tolist()\n",
    "# feature_importance=clf.feature_importances_.tolist()\n",
    "# #for i,j in zip(X_train.columns,clf.feature_importances_):\n",
    "#     #print(i,j)\n",
    "# print(features)\n",
    "# print(len(features))"
   ],
   "metadata": {
    "collapsed": false,
    "pycharm": {
     "name": "#%%\n"
    }
   }
  },
  {
   "cell_type": "code",
   "execution_count": 36,
   "outputs": [
    {
     "name": "stdout",
     "output_type": "stream",
     "text": [
      "date\n",
      "2023/1/5       True\n",
      "2022/12/29    False\n",
      "2022/12/22     True\n",
      "2022/12/15    False\n",
      "2022/12/8      True\n",
      "2022/12/1      True\n",
      "2022/11/23    False\n",
      "2022/11/17     True\n",
      "2022/11/10     True\n",
      "2022/10/27    False\n",
      "2022/10/20     True\n",
      "2022/10/13    False\n",
      "2022/10/6      True\n",
      "2022/9/29      True\n",
      "2022/9/22      True\n",
      "2022/9/15      True\n",
      "2022/9/8       True\n",
      "2022/9/1       True\n",
      "2022/8/25      True\n",
      "2022/8/18      True\n",
      "2022/8/11      True\n",
      "2022/8/4       True\n",
      "2022/7/28      True\n",
      "Name: label, dtype: bool\n"
     ]
    }
   ],
   "source": [
    "print(predict==Y_test)"
   ],
   "metadata": {
    "collapsed": false,
    "pycharm": {
     "name": "#%%\n"
    }
   }
  },
  {
   "cell_type": "code",
   "execution_count": 37,
   "outputs": [
    {
     "name": "stdout",
     "output_type": "stream",
     "text": [
      "Last supported opset: 17\n"
     ]
    }
   ],
   "source": [
    "from skl2onnx import __max_supported_opset__\n",
    "print(\"Last supported opset:\",__max_supported_opset__)\n"
   ],
   "metadata": {
    "collapsed": false,
    "pycharm": {
     "name": "#%%\n"
    }
   }
  },
  {
   "cell_type": "code",
   "execution_count": 38,
   "outputs": [
    {
     "name": "stderr",
     "output_type": "stream",
     "text": [
      "C:\\Users\\Dell\\AppData\\Roaming\\Python\\Python39\\site-packages\\sklearn\\utils\\deprecation.py:103: FutureWarning: The attribute `n_features_` is deprecated in 1.0 and will be removed in 1.2. Use `n_features_in_` instead.\n",
      "  warnings.warn(msg, category=FutureWarning)\n",
      "C:\\Users\\Dell\\AppData\\Roaming\\Python\\Python39\\site-packages\\sklearn\\utils\\deprecation.py:103: FutureWarning: Attribute `n_features_` was deprecated in version 1.0 and will be removed in 1.2. Use `n_features_in_` instead.\n",
      "  warnings.warn(msg, category=FutureWarning)\n"
     ]
    }
   ],
   "source": [
    "from skl2onnx import convert_sklearn\n",
    "from skl2onnx.common.data_types import FloatTensorType\n",
    "from skl2onnx.common.data_types import Int64TensorType\n",
    "from skl2onnx.common.data_types import DoubleTensorType\n",
    "initial_type = [('input_1', DoubleTensorType([1,19]))]\n",
    "final_type=[('classification_head_1',FloatTensorType([1])),('classification_head_2',FloatTensorType([1]))]\n",
    "onx = convert_sklearn(clf, initial_types=initial_type,final_types=final_type,options={'zipmap': False})\n",
    "# onx = convert_sklearn(clf, initial_types=initial_type)\n",
    "del onx.graph.output[1]\n",
    "with open(\"UNE.onnx\", \"wb\") as f:\n",
    "    f.write(onx.SerializeToString())"
   ],
   "metadata": {
    "collapsed": false,
    "pycharm": {
     "name": "#%%\n"
    }
   }
  },
  {
   "cell_type": "code",
   "execution_count": 11,
   "outputs": [
    {
     "name": "stdout",
     "output_type": "stream",
     "text": [
      "input_name: input_1\n",
      "label_name: classification_head_1\n",
      "date: 2022/12/22 true_label: -1\n",
      "predict_label: [array([-1.], dtype=float32)]\n"
     ]
    }
   ],
   "source": [
    "import onnxruntime as rt\n",
    "import numpy as np\n",
    "sess = rt.InferenceSession(\"UNE.onnx\")\n",
    "input_name = sess.get_inputs()[0].name\n",
    "label_name = sess.get_outputs()[0].name\n",
    "output=sess.get_outputs()\n",
    "index=2\n",
    "pred_onx = sess.run([label_name], {input_name: np.array(X_test.iloc[index,]).reshape(1,19).astype(np.double)})\n",
    "\n",
    "# print info\n",
    "print('input_name: ' + input_name)\n",
    "print('label_name: ' + label_name)\n",
    "print(\"date:\",X_test.index[index],\"true_label:\",Y_test[index])\n",
    "print(\"predict_label:\",pred_onx)"
   ],
   "metadata": {
    "collapsed": false,
    "pycharm": {
     "name": "#%%\n"
    }
   }
  },
  {
   "cell_type": "code",
   "execution_count": 14,
   "outputs": [
    {
     "data": {
      "text/plain": "            True/False  True_label  predict_label\ndate                                             \n2023/1/5          True          -1             -1\n2022/12/29       False          -1              1\n2022/12/22        True          -1             -1\n2022/12/15       False           1             -1\n2022/12/8         True           1              1\n2022/12/1         True          -1             -1\n2022/11/23       False          -1              1\n2022/11/17        True           1              1\n2022/11/10        True           1              1\n2022/10/27       False          -1              1\n2022/10/20        True          -1             -1\n2022/10/13       False          -1              1\n2022/10/6         True           1              1\n2022/9/29         True          -1             -1\n2022/9/22         True          -1             -1\n2022/9/15         True          -1             -1\n2022/9/8          True          -1             -1\n2022/9/1          True          -1             -1\n2022/8/25         True          -1             -1\n2022/8/18         True          -1             -1\n2022/8/11         True           1              1\n2022/8/4          True           1              1\n2022/7/28         True           1              1",
      "text/html": "<div>\n<style scoped>\n    .dataframe tbody tr th:only-of-type {\n        vertical-align: middle;\n    }\n\n    .dataframe tbody tr th {\n        vertical-align: top;\n    }\n\n    .dataframe thead th {\n        text-align: right;\n    }\n</style>\n<table border=\"1\" class=\"dataframe\">\n  <thead>\n    <tr style=\"text-align: right;\">\n      <th></th>\n      <th>True/False</th>\n      <th>True_label</th>\n      <th>predict_label</th>\n    </tr>\n    <tr>\n      <th>date</th>\n      <th></th>\n      <th></th>\n      <th></th>\n    </tr>\n  </thead>\n  <tbody>\n    <tr>\n      <th>2023/1/5</th>\n      <td>True</td>\n      <td>-1</td>\n      <td>-1</td>\n    </tr>\n    <tr>\n      <th>2022/12/29</th>\n      <td>False</td>\n      <td>-1</td>\n      <td>1</td>\n    </tr>\n    <tr>\n      <th>2022/12/22</th>\n      <td>True</td>\n      <td>-1</td>\n      <td>-1</td>\n    </tr>\n    <tr>\n      <th>2022/12/15</th>\n      <td>False</td>\n      <td>1</td>\n      <td>-1</td>\n    </tr>\n    <tr>\n      <th>2022/12/8</th>\n      <td>True</td>\n      <td>1</td>\n      <td>1</td>\n    </tr>\n    <tr>\n      <th>2022/12/1</th>\n      <td>True</td>\n      <td>-1</td>\n      <td>-1</td>\n    </tr>\n    <tr>\n      <th>2022/11/23</th>\n      <td>False</td>\n      <td>-1</td>\n      <td>1</td>\n    </tr>\n    <tr>\n      <th>2022/11/17</th>\n      <td>True</td>\n      <td>1</td>\n      <td>1</td>\n    </tr>\n    <tr>\n      <th>2022/11/10</th>\n      <td>True</td>\n      <td>1</td>\n      <td>1</td>\n    </tr>\n    <tr>\n      <th>2022/10/27</th>\n      <td>False</td>\n      <td>-1</td>\n      <td>1</td>\n    </tr>\n    <tr>\n      <th>2022/10/20</th>\n      <td>True</td>\n      <td>-1</td>\n      <td>-1</td>\n    </tr>\n    <tr>\n      <th>2022/10/13</th>\n      <td>False</td>\n      <td>-1</td>\n      <td>1</td>\n    </tr>\n    <tr>\n      <th>2022/10/6</th>\n      <td>True</td>\n      <td>1</td>\n      <td>1</td>\n    </tr>\n    <tr>\n      <th>2022/9/29</th>\n      <td>True</td>\n      <td>-1</td>\n      <td>-1</td>\n    </tr>\n    <tr>\n      <th>2022/9/22</th>\n      <td>True</td>\n      <td>-1</td>\n      <td>-1</td>\n    </tr>\n    <tr>\n      <th>2022/9/15</th>\n      <td>True</td>\n      <td>-1</td>\n      <td>-1</td>\n    </tr>\n    <tr>\n      <th>2022/9/8</th>\n      <td>True</td>\n      <td>-1</td>\n      <td>-1</td>\n    </tr>\n    <tr>\n      <th>2022/9/1</th>\n      <td>True</td>\n      <td>-1</td>\n      <td>-1</td>\n    </tr>\n    <tr>\n      <th>2022/8/25</th>\n      <td>True</td>\n      <td>-1</td>\n      <td>-1</td>\n    </tr>\n    <tr>\n      <th>2022/8/18</th>\n      <td>True</td>\n      <td>-1</td>\n      <td>-1</td>\n    </tr>\n    <tr>\n      <th>2022/8/11</th>\n      <td>True</td>\n      <td>1</td>\n      <td>1</td>\n    </tr>\n    <tr>\n      <th>2022/8/4</th>\n      <td>True</td>\n      <td>1</td>\n      <td>1</td>\n    </tr>\n    <tr>\n      <th>2022/7/28</th>\n      <td>True</td>\n      <td>1</td>\n      <td>1</td>\n    </tr>\n  </tbody>\n</table>\n</div>"
     },
     "execution_count": 14,
     "metadata": {},
     "output_type": "execute_result"
    }
   ],
   "source": [
    "pd.concat([pd.DataFrame(predict==Y_test).rename(columns={\"label\":\"True/False\"}),pd.DataFrame(Y_test).rename(columns={\"label\":\"True_label\"}),\n",
    "           pd.DataFrame(predict,index=X_test.index).rename(columns={0:\"predict_label\"})],axis=1)"
   ],
   "metadata": {
    "collapsed": false,
    "pycharm": {
     "name": "#%%\n"
    }
   }
  },
  {
   "cell_type": "code",
   "execution_count": 48,
   "outputs": [
    {
     "data": {
      "text/plain": "[[216.0,\n  214.0,\n  211.0,\n  1672.0,\n  1678.0,\n  1671.0,\n  222.0,\n  1683.0,\n  220.5,\n  228.0,\n  227.25,\n  -6.0,\n  5.0,\n  2.0,\n  -11.0,\n  1.0,\n  -6.0,\n  -6.75,\n  -7.5]]"
     },
     "execution_count": 48,
     "metadata": {},
     "output_type": "execute_result"
    }
   ],
   "source": [
    "np.array(X_test.iloc[2,]).reshape(1,19).astype(np.double).tolist()"
   ],
   "metadata": {
    "collapsed": false,
    "pycharm": {
     "name": "#%%\n"
    }
   }
  },
  {
   "cell_type": "code",
   "execution_count": 49,
   "outputs": [
    {
     "name": "stdout",
     "output_type": "stream",
     "text": [
      "Index(['now_1', 'correction_1', 'previous_1', 'now_2', 'correction_2',\n",
      "       'previous_2', 'predict_1', 'predict_2', 'now_3', 'correction_3',\n",
      "       'previous_3', 'now_predict_sub_1', 'now_previous_sub_1',\n",
      "       'now_correction_sub_1', 'now_predict_sub_2', 'now_previous_sub_2',\n",
      "       'now_correction_sub_2', 'now_previous_sub_3', 'now_correction_sub_3'],\n",
      "      dtype='object')\n",
      "19\n"
     ]
    }
   ],
   "source": [
    "print(X_test.columns)\n",
    "print(len(X_test.columns))"
   ],
   "metadata": {
    "collapsed": false,
    "pycharm": {
     "name": "#%%\n"
    }
   }
  },
  {
   "cell_type": "code",
   "execution_count": 15,
   "outputs": [
    {
     "name": "stdout",
     "output_type": "stream",
     "text": [
      "23\n"
     ]
    }
   ],
   "source": [
    "print(len(predict))\n",
    "import numpy as np\n",
    "\n",
    "#回测\n",
    "HoldingTime = '30000'\n",
    "test_dates = np.array(X_test.index.tolist())\n",
    "test_times = np.array(test_times)\n",
    "test_preds = np.array(list(map(str, predict)))\n",
    "test_TradingPair = np.array(['XAU/USD'] * len(Y_test))\n",
    "test_HoldingTime = np.array([HoldingTime] * len(Y_test))\n",
    "df = pd.DataFrame(np.hstack((test_dates[:, np.newaxis], test_times[:, np.newaxis], test_preds[:, np.newaxis],\n",
    "                             test_TradingPair[:, np.newaxis], test_HoldingTime[:, np.newaxis])),\n",
    "                  columns=['Date', 'Time', 'label', 'TradingPair', 'HoldingTime'])\n",
    "df.to_csv('美国失业金首单_backtest.csv', index=False)"
   ],
   "metadata": {
    "collapsed": false,
    "pycharm": {
     "name": "#%%\n"
    }
   }
  },
  {
   "cell_type": "code",
   "execution_count": 17,
   "outputs": [
    {
     "data": {
      "text/plain": "          Date      Time  label TradingPair  HoldingTime\n0   2022/12/29  21:30:00      1     XAU/USD        30000\n1   2022/12/22  21:30:00     -1     XAU/USD        30000\n2   2022/12/15  21:30:00     -1     XAU/USD        30000\n3    2022/12/8  21:30:00      1     XAU/USD        30000\n4    2022/12/1  21:30:00     -1     XAU/USD        30000\n5   2022/11/23  21:30:00      1     XAU/USD        30000\n6   2022/11/17  21:30:00      1     XAU/USD        30000\n7   2022/11/10  21:30:00      1     XAU/USD        30000\n8   2022/10/27  20:30:00      1     XAU/USD        30000\n9   2022/10/20  20:30:00     -1     XAU/USD        30000\n10  2022/10/13  20:30:00      1     XAU/USD        30000\n11   2022/10/6  20:30:00      1     XAU/USD        30000\n12   2022/9/29  20:30:00     -1     XAU/USD        30000\n13   2022/9/22  20:30:00     -1     XAU/USD        30000\n14   2022/9/15  20:30:00     -1     XAU/USD        30000\n15    2022/9/8  20:30:00     -1     XAU/USD        30000\n16    2022/9/1  20:30:00     -1     XAU/USD        30000\n17   2022/8/25  20:30:00     -1     XAU/USD        30000\n18   2022/8/18  20:30:00     -1     XAU/USD        30000\n19   2022/8/11  20:30:00      1     XAU/USD        30000\n20    2022/8/4  20:30:00      1     XAU/USD        30000\n21   2022/7/28  20:30:00      1     XAU/USD        30000\n22   2022/7/21  20:30:00      1     XAU/USD        30000\n23   2022/7/14  20:30:00     -1     XAU/USD        30000\n24   2022/6/30  20:30:00      1     XAU/USD        30000\n25   2022/6/16  20:30:00      1     XAU/USD        30000\n26    2022/6/9  20:30:00      1     XAU/USD        30000\n27    2022/6/2  20:30:00     -1     XAU/USD        30000\n28   2022/5/19  20:30:00      1     XAU/USD        30000\n29   2022/5/12  20:30:00      1     XAU/USD        30000\n30    2022/5/5  20:30:00      1     XAU/USD        30000\n31   2022/4/28  20:30:00      1     XAU/USD        30000\n32   2022/4/21  20:30:00      1     XAU/USD        30000\n33    2022/4/7  20:30:00     -1     XAU/USD        30000\n34   2022/3/31  20:30:00     -1     XAU/USD        30000\n35   2022/3/24  20:30:00     -1     XAU/USD        30000\n36   2022/3/17  20:30:00     -1     XAU/USD        30000\n37   2022/3/10  21:30:00      1     XAU/USD        30000\n38    2022/3/3  21:30:00     -1     XAU/USD        30000\n39   2022/2/24  21:30:00     -1     XAU/USD        30000\n40   2022/2/17  21:30:00     -1     XAU/USD        30000\n41   2022/2/10  21:30:00     -1     XAU/USD        30000\n42   2022/1/27  21:30:00     -1     XAU/USD        30000\n43   2022/1/13  21:30:00      1     XAU/USD        30000\n44    2022/1/6  21:30:00      1     XAU/USD        30000",
      "text/html": "<div>\n<style scoped>\n    .dataframe tbody tr th:only-of-type {\n        vertical-align: middle;\n    }\n\n    .dataframe tbody tr th {\n        vertical-align: top;\n    }\n\n    .dataframe thead th {\n        text-align: right;\n    }\n</style>\n<table border=\"1\" class=\"dataframe\">\n  <thead>\n    <tr style=\"text-align: right;\">\n      <th></th>\n      <th>Date</th>\n      <th>Time</th>\n      <th>label</th>\n      <th>TradingPair</th>\n      <th>HoldingTime</th>\n    </tr>\n  </thead>\n  <tbody>\n    <tr>\n      <th>0</th>\n      <td>2022/12/29</td>\n      <td>21:30:00</td>\n      <td>1</td>\n      <td>XAU/USD</td>\n      <td>30000</td>\n    </tr>\n    <tr>\n      <th>1</th>\n      <td>2022/12/22</td>\n      <td>21:30:00</td>\n      <td>-1</td>\n      <td>XAU/USD</td>\n      <td>30000</td>\n    </tr>\n    <tr>\n      <th>2</th>\n      <td>2022/12/15</td>\n      <td>21:30:00</td>\n      <td>-1</td>\n      <td>XAU/USD</td>\n      <td>30000</td>\n    </tr>\n    <tr>\n      <th>3</th>\n      <td>2022/12/8</td>\n      <td>21:30:00</td>\n      <td>1</td>\n      <td>XAU/USD</td>\n      <td>30000</td>\n    </tr>\n    <tr>\n      <th>4</th>\n      <td>2022/12/1</td>\n      <td>21:30:00</td>\n      <td>-1</td>\n      <td>XAU/USD</td>\n      <td>30000</td>\n    </tr>\n    <tr>\n      <th>5</th>\n      <td>2022/11/23</td>\n      <td>21:30:00</td>\n      <td>1</td>\n      <td>XAU/USD</td>\n      <td>30000</td>\n    </tr>\n    <tr>\n      <th>6</th>\n      <td>2022/11/17</td>\n      <td>21:30:00</td>\n      <td>1</td>\n      <td>XAU/USD</td>\n      <td>30000</td>\n    </tr>\n    <tr>\n      <th>7</th>\n      <td>2022/11/10</td>\n      <td>21:30:00</td>\n      <td>1</td>\n      <td>XAU/USD</td>\n      <td>30000</td>\n    </tr>\n    <tr>\n      <th>8</th>\n      <td>2022/10/27</td>\n      <td>20:30:00</td>\n      <td>1</td>\n      <td>XAU/USD</td>\n      <td>30000</td>\n    </tr>\n    <tr>\n      <th>9</th>\n      <td>2022/10/20</td>\n      <td>20:30:00</td>\n      <td>-1</td>\n      <td>XAU/USD</td>\n      <td>30000</td>\n    </tr>\n    <tr>\n      <th>10</th>\n      <td>2022/10/13</td>\n      <td>20:30:00</td>\n      <td>1</td>\n      <td>XAU/USD</td>\n      <td>30000</td>\n    </tr>\n    <tr>\n      <th>11</th>\n      <td>2022/10/6</td>\n      <td>20:30:00</td>\n      <td>1</td>\n      <td>XAU/USD</td>\n      <td>30000</td>\n    </tr>\n    <tr>\n      <th>12</th>\n      <td>2022/9/29</td>\n      <td>20:30:00</td>\n      <td>-1</td>\n      <td>XAU/USD</td>\n      <td>30000</td>\n    </tr>\n    <tr>\n      <th>13</th>\n      <td>2022/9/22</td>\n      <td>20:30:00</td>\n      <td>-1</td>\n      <td>XAU/USD</td>\n      <td>30000</td>\n    </tr>\n    <tr>\n      <th>14</th>\n      <td>2022/9/15</td>\n      <td>20:30:00</td>\n      <td>-1</td>\n      <td>XAU/USD</td>\n      <td>30000</td>\n    </tr>\n    <tr>\n      <th>15</th>\n      <td>2022/9/8</td>\n      <td>20:30:00</td>\n      <td>-1</td>\n      <td>XAU/USD</td>\n      <td>30000</td>\n    </tr>\n    <tr>\n      <th>16</th>\n      <td>2022/9/1</td>\n      <td>20:30:00</td>\n      <td>-1</td>\n      <td>XAU/USD</td>\n      <td>30000</td>\n    </tr>\n    <tr>\n      <th>17</th>\n      <td>2022/8/25</td>\n      <td>20:30:00</td>\n      <td>-1</td>\n      <td>XAU/USD</td>\n      <td>30000</td>\n    </tr>\n    <tr>\n      <th>18</th>\n      <td>2022/8/18</td>\n      <td>20:30:00</td>\n      <td>-1</td>\n      <td>XAU/USD</td>\n      <td>30000</td>\n    </tr>\n    <tr>\n      <th>19</th>\n      <td>2022/8/11</td>\n      <td>20:30:00</td>\n      <td>1</td>\n      <td>XAU/USD</td>\n      <td>30000</td>\n    </tr>\n    <tr>\n      <th>20</th>\n      <td>2022/8/4</td>\n      <td>20:30:00</td>\n      <td>1</td>\n      <td>XAU/USD</td>\n      <td>30000</td>\n    </tr>\n    <tr>\n      <th>21</th>\n      <td>2022/7/28</td>\n      <td>20:30:00</td>\n      <td>1</td>\n      <td>XAU/USD</td>\n      <td>30000</td>\n    </tr>\n    <tr>\n      <th>22</th>\n      <td>2022/7/21</td>\n      <td>20:30:00</td>\n      <td>1</td>\n      <td>XAU/USD</td>\n      <td>30000</td>\n    </tr>\n    <tr>\n      <th>23</th>\n      <td>2022/7/14</td>\n      <td>20:30:00</td>\n      <td>-1</td>\n      <td>XAU/USD</td>\n      <td>30000</td>\n    </tr>\n    <tr>\n      <th>24</th>\n      <td>2022/6/30</td>\n      <td>20:30:00</td>\n      <td>1</td>\n      <td>XAU/USD</td>\n      <td>30000</td>\n    </tr>\n    <tr>\n      <th>25</th>\n      <td>2022/6/16</td>\n      <td>20:30:00</td>\n      <td>1</td>\n      <td>XAU/USD</td>\n      <td>30000</td>\n    </tr>\n    <tr>\n      <th>26</th>\n      <td>2022/6/9</td>\n      <td>20:30:00</td>\n      <td>1</td>\n      <td>XAU/USD</td>\n      <td>30000</td>\n    </tr>\n    <tr>\n      <th>27</th>\n      <td>2022/6/2</td>\n      <td>20:30:00</td>\n      <td>-1</td>\n      <td>XAU/USD</td>\n      <td>30000</td>\n    </tr>\n    <tr>\n      <th>28</th>\n      <td>2022/5/19</td>\n      <td>20:30:00</td>\n      <td>1</td>\n      <td>XAU/USD</td>\n      <td>30000</td>\n    </tr>\n    <tr>\n      <th>29</th>\n      <td>2022/5/12</td>\n      <td>20:30:00</td>\n      <td>1</td>\n      <td>XAU/USD</td>\n      <td>30000</td>\n    </tr>\n    <tr>\n      <th>30</th>\n      <td>2022/5/5</td>\n      <td>20:30:00</td>\n      <td>1</td>\n      <td>XAU/USD</td>\n      <td>30000</td>\n    </tr>\n    <tr>\n      <th>31</th>\n      <td>2022/4/28</td>\n      <td>20:30:00</td>\n      <td>1</td>\n      <td>XAU/USD</td>\n      <td>30000</td>\n    </tr>\n    <tr>\n      <th>32</th>\n      <td>2022/4/21</td>\n      <td>20:30:00</td>\n      <td>1</td>\n      <td>XAU/USD</td>\n      <td>30000</td>\n    </tr>\n    <tr>\n      <th>33</th>\n      <td>2022/4/7</td>\n      <td>20:30:00</td>\n      <td>-1</td>\n      <td>XAU/USD</td>\n      <td>30000</td>\n    </tr>\n    <tr>\n      <th>34</th>\n      <td>2022/3/31</td>\n      <td>20:30:00</td>\n      <td>-1</td>\n      <td>XAU/USD</td>\n      <td>30000</td>\n    </tr>\n    <tr>\n      <th>35</th>\n      <td>2022/3/24</td>\n      <td>20:30:00</td>\n      <td>-1</td>\n      <td>XAU/USD</td>\n      <td>30000</td>\n    </tr>\n    <tr>\n      <th>36</th>\n      <td>2022/3/17</td>\n      <td>20:30:00</td>\n      <td>-1</td>\n      <td>XAU/USD</td>\n      <td>30000</td>\n    </tr>\n    <tr>\n      <th>37</th>\n      <td>2022/3/10</td>\n      <td>21:30:00</td>\n      <td>1</td>\n      <td>XAU/USD</td>\n      <td>30000</td>\n    </tr>\n    <tr>\n      <th>38</th>\n      <td>2022/3/3</td>\n      <td>21:30:00</td>\n      <td>-1</td>\n      <td>XAU/USD</td>\n      <td>30000</td>\n    </tr>\n    <tr>\n      <th>39</th>\n      <td>2022/2/24</td>\n      <td>21:30:00</td>\n      <td>-1</td>\n      <td>XAU/USD</td>\n      <td>30000</td>\n    </tr>\n    <tr>\n      <th>40</th>\n      <td>2022/2/17</td>\n      <td>21:30:00</td>\n      <td>-1</td>\n      <td>XAU/USD</td>\n      <td>30000</td>\n    </tr>\n    <tr>\n      <th>41</th>\n      <td>2022/2/10</td>\n      <td>21:30:00</td>\n      <td>-1</td>\n      <td>XAU/USD</td>\n      <td>30000</td>\n    </tr>\n    <tr>\n      <th>42</th>\n      <td>2022/1/27</td>\n      <td>21:30:00</td>\n      <td>-1</td>\n      <td>XAU/USD</td>\n      <td>30000</td>\n    </tr>\n    <tr>\n      <th>43</th>\n      <td>2022/1/13</td>\n      <td>21:30:00</td>\n      <td>1</td>\n      <td>XAU/USD</td>\n      <td>30000</td>\n    </tr>\n    <tr>\n      <th>44</th>\n      <td>2022/1/6</td>\n      <td>21:30:00</td>\n      <td>1</td>\n      <td>XAU/USD</td>\n      <td>30000</td>\n    </tr>\n  </tbody>\n</table>\n</div>"
     },
     "execution_count": 17,
     "metadata": {},
     "output_type": "execute_result"
    }
   ],
   "source": [
    "backtest_df=pd.read_csv(\"美国失业金首单_backtest.csv\")\n",
    "backtest_df"
   ],
   "metadata": {
    "collapsed": false,
    "pycharm": {
     "name": "#%%\n"
    }
   }
  }
 ],
 "metadata": {
  "kernelspec": {
   "display_name": "Python 3",
   "language": "python",
   "name": "python3"
  },
  "language_info": {
   "codemirror_mode": {
    "name": "ipython",
    "version": 2
   },
   "file_extension": ".py",
   "mimetype": "text/x-python",
   "name": "python",
   "nbconvert_exporter": "python",
   "pygments_lexer": "ipython2",
   "version": "2.7.6"
  }
 },
 "nbformat": 4,
 "nbformat_minor": 0
}